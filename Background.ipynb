{
 "cells": [
  {
   "cell_type": "markdown",
   "metadata": {},
   "source": [
    "# Introduction\n",
    "This project aims to provide a comprehensive study of the income prediction problem using different types of machine learning methods. \n",
    "The goal is to understand and try different methods of prediction used in ML. \n",
    "\n",
    "# Data Analysis\n",
    "The data is taken from the UCI Machine Learning Repository, with the following link: https://archive.ics.uci.edu/ml/datasets/Adult"
   ]
  }
 ],
 "metadata": {
  "language_info": {
   "name": "python"
  }
 },
 "nbformat": 4,
 "nbformat_minor": 2
}
